{
 "cells": [
  {
   "cell_type": "markdown",
   "metadata": {},
   "source": [
    "# reiknirit\n",
    "ætla reyna að halda uppi python útfærslum af sauðakóða reikniritum sem sett eru fyrir ásamt tímaflækjum fyrir þau ef mögulegt\n",
    "\n",
    "- [insertion sort](#insertion-sort)\n",
    "- [selection sort](#selection-sort)\n",
    "- [merge sort](#merge-sort)"
   ]
  },
  {
   "cell_type": "markdown",
   "metadata": {},
   "source": [
    "## insertion sort\n",
    "\n",
    "> ath. þessu sauðakóði notast við 1-indexing, þ.e. fylki byrja á 1 ekki 0\n",
    "```\n",
    "insertion_sort(A, n) {\n",
    "    // usually, n = length of A\n",
    "    for i = 2 to n {\n",
    "        key = A[i]\n",
    "        // insert A[i] into the sorted sequence A[1...i-1]\n",
    "        j = i - 1\n",
    "        while j > 0 and A[j] > key {\n",
    "            A[j + 1] = A[j]\n",
    "            j = j - 1\n",
    "        }\n",
    "        A[j + 1] = key\n",
    "    } \n",
    "} \n",
    "```\n",
    "\n",
    "| case | tími |\n",
    "| ---- | ----:|\n",
    "| best | O(n) |\n",
    "| worst|O(n^2)|"
   ]
  },
  {
   "cell_type": "code",
   "execution_count": 1,
   "metadata": {},
   "outputs": [
    {
     "name": "stdout",
     "output_type": "stream",
     "text": [
      "[1, 2, 3, 4, 5]\n",
      "[1, 2, 3, 4, 5]\n"
     ]
    }
   ],
   "source": [
    "# takk @sveppi fyrir að láta vita af vitlausum kóða :)\n",
    "def insertion_sort(A):\n",
    "    n = len(A)\n",
    "    # usually, n = length of A\n",
    "    for i in range(n) :\n",
    "        key = A[i]\n",
    "        # insert A[i] into the sorted sequence A[1...i-1]\n",
    "        j = i - 1\n",
    "        while j >= 0 and A[j] > key:\n",
    "            A[j + 1] = A[j]\n",
    "            j = j - 1\n",
    "        A[j + 1] = key\n",
    "    return A\n",
    "\n",
    "best_case  = [1,2,3,4,5]\n",
    "worst_case = [5,4,3,2,1]\n",
    "\n",
    "print(insertion_sort(best_case))\n",
    "print(insertion_sort(worst_case))"
   ]
  },
  {
   "cell_type": "code",
   "execution_count": 2,
   "metadata": {},
   "outputs": [
    {
     "name": "stdout",
     "output_type": "stream",
     "text": [
      "[1, 2, 3, 4, 5]\n",
      "[1, 2, 3, 4, 5]\n"
     ]
    }
   ],
   "source": [
    "def selection_sort(arr):\n",
    "    for i in range(len(arr) - 1):\n",
    "        s = i\n",
    "        for j in range(i + 1, len(arr)):\n",
    "            if arr[j] < arr[s]:\n",
    "                s = j\n",
    "        \n",
    "        temp = arr[i]\n",
    "        arr[i] = arr[s]\n",
    "        arr[s] = temp\n",
    "\n",
    "    return arr\n",
    "\n",
    "best_case  = [1,2,3,4,5]\n",
    "worst_case = [5,4,3,2,1]\n",
    "\n",
    "print(selection_sort(best_case))\n",
    "print(selection_sort(worst_case))"
   ]
  },
  {
   "cell_type": "markdown",
   "metadata": {},
   "source": [
    "## merge sort\n",
    "hefur tvo hluta, skiptingu og sameiningu, *merge*\n",
    "\n",
    "```\n",
    "merge(arr, m) {\n",
    "    i = 1, j = m + 1\n",
    "    for k = 1 to n {\n",
    "        if j > n {\n",
    "            brr[k] = arr[i]\n",
    "            i++\n",
    "        } else if i > m {\n",
    "            brr[k] = arr[j]\n",
    "            j++\n",
    "        } else if arr[i] < arr[j] {\n",
    "            brr[k] = arr[i]\n",
    "            i++\n",
    "        } else {\n",
    "            brr[k] = arr[j]\n",
    "            j++\n",
    "        }\n",
    "    }\n",
    "    for k = 1 to n {\n",
    "        arr[k] = brr[k]\n",
    "    }\n",
    "}\n",
    "\n",
    "merge_sort(arr) {\n",
    "    if arr.length > 1 {\n",
    "        m = arr.length >> 1\n",
    "        merge_sort(arr[1..m])\n",
    "        merge_sort(arr[m+1..arr.lenght])\n",
    "        merge(arr, m)\n",
    "    }\n",
    "}\n",
    "```\n",
    "\n",
    "| case | tími |\n",
    "| ---- | ----:|\n",
    "| best | O(n) |\n",
    "| worst|O(n^2)|"
   ]
  },
  {
   "cell_type": "markdown",
   "metadata": {},
   "source": [
    "## Deila og drottna rakningarvensl\n",
    "\n",
    "```\n",
    "T(n) = r*T(n/b) + f(n)\n",
    "//     ^     ^    ^-vinna við að deila og sameina\n",
    "//     ^     ^-skiptingar\n",
    "//     ^-undirverkar\n",
    "```\n",
    "skiptum upp í tré og fáum:  \n",
    "![mynd](imgs/daqtree.excalidraw.png)  \n",
    "gerum ráð fyrir að $T(n) = 1$ fyrir öll $n\\leq n_0$\n",
    "- $f(n)$\n",
    "- $rf(n/b)$\n",
    "- $r^kf(n/b^k)$\n",
    "- $r^hf(1)$\n",
    "\n",
    "$T(n)=\\sum_{k=0}^n r^k f(\\frac{n}{b^k})$  \n",
    "ef liðir fyrir ofan eru:\n",
    "- minnkandi (veldisvöxtur) => $T(n) = O(f(n))$\n",
    "- allir jafnir => $T(n) = O(f(n)*\\log_b{n}$\n",
    "- vaxandi (veldisvöxtur) => $T(n) = O(n^{\\log_b{r}})$"
   ]
  },
  {
   "cell_type": "markdown",
   "metadata": {},
   "source": [
    "# N - Drottningar\n",
    "\n",
    "fyrir borð af `n^2` stærð á að koma fyrir `n` drottningum án þess að nokkur drottning sé í hættu frá annarri drottningu\n",
    "\n",
    "| n   | gengur upp |\n",
    "| --- | ---------- |\n",
    "| 1   | jebb       |\n",
    "| 2   | nobb       |\n",
    "| 3   | nobb       |\n",
    "| 4   | jebb       |\n",
    "| 5   | jebb       |\n",
    "| 6   | jebb       |\n",
    "| 7   | jebb       |\n",
    "| 8   | jebb       |\n"
   ]
  },
  {
   "cell_type": "code",
   "execution_count": 3,
   "metadata": {},
   "outputs": [
    {
     "name": "stdout",
     "output_type": "stream",
     "text": [
      "None\n"
     ]
    }
   ],
   "source": [
    "\n",
    "# ! þessi útgáfa virkar ekki, þarf bæði að láta sauðakóðann \n",
    "# ! úr bókinni virka fyrir 0-base array og láta lesa inn rétt\n",
    "\n",
    "def PLACEQUEENS(Q, r, n):\n",
    "    # Q[i] = j ef drottning í línu i er í dálki j\n",
    "    # r táknar fyrstu tómu línu (r = 0 í upphafi)\n",
    "    if r >= n:\n",
    "        return Q\n",
    "    else:\n",
    "        for j in range(n):\n",
    "            legal = True\n",
    "            for i in range(r):\n",
    "                if Q[i] == r or Q[i] == j + r or Q[i] == j - r + i:\n",
    "                    Q[r] = j\n",
    "                    PLACEQUEENS(Q, r+1, n)\n",
    "\n",
    "\n",
    "Q = [0, 0, 0,\n",
    "     0, 0, 0,\n",
    "     0, 0, 0]\n",
    "\n",
    "print(PLACEQUEENS(Q, 0, 3))\n"
   ]
  },
  {
   "cell_type": "markdown",
   "metadata": {},
   "source": [
    "## Kvik bestun - Dynamic Programming\n",
    "\n",
    "> \"smart recursion\"\n",
    "\n",
    "### fibonacci runana\n",
    "\n",
    "runan er skilgreind sem\n",
    "$f_0=0$,\n",
    "$f_1=1$,\n",
    "$f_2=1$,\n",
    "$f_n=f_{n-1}+f_{n-2}, n\\geq 2$\n",
    "\n",
    "### Undirverkefni\n",
    "\n",
    "`F(i):` reikna i-tu Fib. töluna\n",
    "\n",
    "| aðgerð                               | svar                 |\n",
    "| :----------------------------------- | -------------------- |\n",
    "| vensl                                | `F(i)=F(i-1)+F(i-2)` |\n",
    "| röð aðgerða                          | Vaxandi i            |\n",
    "| grunntilvik                          | `F(0)=0, F(1)=1`     |\n",
    "| tímaflækja (geymum milliniðurstöður) | `T(n)=n*1=n)`        |\n",
    "\n",
    "einfaldasta, og versta, lausnin:\n"
   ]
  },
  {
   "cell_type": "code",
   "execution_count": 4,
   "metadata": {},
   "outputs": [
    {
     "data": {
      "text/plain": [
       "55"
      ]
     },
     "execution_count": 4,
     "metadata": {},
     "output_type": "execute_result"
    }
   ],
   "source": [
    "def fib(n):\n",
    "    if n <= 1:\n",
    "        return n\n",
    "    return fib(n-1)+fib(n-2)\n",
    "\n",
    "# fib(40) # ? gildið er 102334155, keyrir á 33.2s\n",
    "fib(10)"
   ]
  },
  {
   "cell_type": "markdown",
   "metadata": {},
   "source": [
    "betur útfærð lausn, nýtir memoisation:"
   ]
  },
  {
   "cell_type": "code",
   "execution_count": 5,
   "metadata": {},
   "outputs": [],
   "source": [
    "m = {0: 0, 1: 1, 2: 1}\n",
    "def fib2(n):\n",
    "    if n not in m:\n",
    "        m[n] = fib2(n-1) + fib2(n - 2)\n",
    "    return m[n]\n",
    "\n",
    "\n",
    "# fib2(2500) # * mörghundruðfalt betra en fyrir ofan\n",
    "# ? 2500 keyrir á 0.3s\n",
    "# ? gildið er of langt til að skrifa\n"
   ]
  },
  {
   "cell_type": "markdown",
   "metadata": {},
   "source": [
    "önnur útfærsla, nýtir bottom up"
   ]
  },
  {
   "cell_type": "code",
   "execution_count": 6,
   "metadata": {},
   "outputs": [],
   "source": [
    "def fib3(n):\n",
    "    f1 = 0\n",
    "    f2 = 1\n",
    "    for i in range(n):\n",
    "        temp = f1 + f2\n",
    "        f2 = f1\n",
    "        f1 = temp\n",
    "    return f1\n",
    "\n",
    "# fib3(1000000) # ! þessi hér er crazy, milljónasta talan á tæpum 9 sekúndum\n"
   ]
  },
  {
   "cell_type": "markdown",
   "metadata": {},
   "source": [
    "### Vandamál - Rod cutting\n",
    "Inntak: Stöng af lend L, virði `V[l]` fyrir bút af lengd \n",
    "$l\\in\\{0,1,....,L\\}$  \n",
    "Finna: Hæsta virði sem fæst með því að búta stöngina niður  \n",
    "Dæmi:  `L=7` `V[1, 10, 13, 18, 20, 31, 32]`  \n",
    "Besta lausn: `3+1+1 = 32`\n",
    "\n",
    "Skiptum nú niður í undirverkefni"
   ]
  },
  {
   "cell_type": "markdown",
   "metadata": {},
   "source": [
    "#### Undirverkefni\n",
    "`F(l):` hæsta virði fyrir stöng af lengd l, \n",
    "$0\\leq l \\leq L$, þetta er lykilskref  \n",
    "\n",
    "|verkefni|lausn|\n",
    "|:------:|-----|\n",
    "|vensl|`F(l) = max(V[j] + F(l - j))`|\n",
    "|röð undirverkefna| vaxandi j|\n",
    "|grunntilvik|`F(0)=0`|\n",
    "|lausn|`F(L)`|\n",
    "|tímaflækja|$T(L) = L*O(L) = O(L^2)$| \n",
    "\n",
    "#### útfærsla\n",
    "```\n",
    "F = {}\n",
    "Skera(v, l)\n",
    "    if (l < 1) return 0\n",
    "    if l in F return F[l]\n",
    "    else\n",
    "        q = int-min\n",
    "        for j = 1 to l\n",
    "            q = max(q, v[j] + skera(v, l-j))\n",
    "        F[l] = q\n",
    "    return q\n",
    "```\n",
    "\n",
    "vensl undirverkefna má lýsa með stefndu, órásuðu neti *(directed acyclic graph, DAG)*\n",
    "![netið](imgs/logDAG.excalidraw.png)  \n",
    "hér teiknaði ég bara leggi fyrir `V[1]`, `V[2]` og `V[3]`, *(miðað við að `V` sé 1-based)*, því þeir væru notaðir í lokasvarið"
   ]
  },
  {
   "cell_type": "markdown",
   "metadata": {},
   "source": [
    "### Breytingarfjarlægð - edit distance\n",
    "> Levenstein 1965\n",
    "> \n",
    "**Inntak:** Strengir `A[1...m]` og `B[1...n]`  \n",
    "**Finna:** Lágmarks fjöldi breytiaðgerða, mögulegar aðgerðrir: skeyta inn staf (insert), eyða staf (delete), víxla staf (replace)  \n",
    "**Dæmi:**  \n",
    "`FOOD -> MOOD -> MOND -> MONED -> MONEY` aðgerðir `[R,R,I,R]`, fjarlægð orða = 4\n",
    "\n",
    "#### Undirverkefni\n",
    "`d(i, j) =` Breytingarfjarlægð á milli `A[1..i]` og `B[1...j]`  \n",
    "\n",
    "![fylkin](imgs/editdistance.excalidraw.png)  \n",
    "|aðgerð|útkoma|\n",
    "|------|------|\n",
    "|innsetning|`d(i,j-i)+1`|\n",
    "|eyðing|`d(i-1,j)+1`|\n",
    "|víxl|`d(i-1,j-1)`|\n",
    "|vensl|`d(i,j)=min(innsetning,eyðing,víxl)`|\n",
    "|röð|$0\\leq i \\leq m, 0\\leq j\\leq n$|\n",
    "|grunnstöur|`d(0,j)=j`, `d(i,0)=i`|\n",
    "|lausn|`d(m,n)`|\n",
    "|tímaflækjan|`T(n)=Θ(m*n) * O(1) = Θ(m*n)`|"
   ]
  },
  {
   "cell_type": "markdown",
   "metadata": {},
   "source": [
    "### lengsta samhverfa hlutruna\n",
    "\n",
    "höfum strenginn *MÁNAÁNAMAÐKANÁMA*, dæmi um samhverfan hlutstreng væri *MÁNAÐANÁM*  \n",
    "**inntak:** runa `A[1..n` eða `A[0..n-1]`  \n",
    "**finna:** lengd lengstu samhverfu hlutrunu `A`  \n",
    "**undirverkefni:** `L(i,j)`: lengsta samfellda hlutruna `A[i:j]`\n",
    "> ath. hér verið að tala um frá og með i, til og með j\n",
    "\n",
    "skilgreiningar á hlutrunum:  \n",
    "`A[1:i]`: prefix  \n",
    "`A[i:n]`: postfix  \n",
    "`A[i:j]`: substring\n",
    "\n",
    "**vensl**\n",
    "$$L(i,j) = \\begin{cases}2+L(i+1,j-1) & \\text{ef}\\ A[i] = A[j]\\\\ Max(L(i+1, j), L(i, j-1)) & \\text{ef}\\ A[i]\\neq A[j]\\end{cases}$$\n",
    "\n",
    "\n",
    "|aðgerð|útkoma|\n",
    "|------|------|\n",
    "|röð |`(i,j) <- {(i,j-1), (i+1,j), (i+1,j-1)}`|\n",
    "|grunntilvik|`L(i,j) = 0` ef `i > j` og `L(i,j) = 1` annars\n",
    "|tímaflækja|fjöldi undirverkefna, `O(n^2)`, * tími per undirverkefni, `O(1)`, = `O(n^2)`|\n"
   ]
  },
  {
   "cell_type": "code",
   "execution_count": 7,
   "metadata": {},
   "outputs": [],
   "source": [
    "# todo: útbúa kóða fyrir þetta reiknirit"
   ]
  },
  {
   "cell_type": "markdown",
   "metadata": {},
   "source": [
    "### staðsetning sviga í reiknisegð\n",
    "**inntak:** reiknisegð sem samanstendur af \n",
    "$n$ jákvæðum heiltölum \n",
    "$a_i$ sem eru aðgreindar með \n",
    "$+,\\times$ virkjum\n",
    "$O_i(a,b)$  \n",
    "**finna:** staðsetning sviga þ.a. gildi sé hámarkað  \n",
    "**dæmi:** \n",
    "$(7+4)\\times(3+5)=88$ þar sem fylkin eru \n",
    "$a[7,4,3,5]$ \n",
    "$b[+,\\times,+]$  \n",
    "\n",
    "**undirverkefni:** `f(i,j)`: hæsta gildi fyrir runu $a_i$ til $a_j  \n",
    "|aðgerð|útkoma|\n",
    "|------|------|\n",
    "| **vensl** | $f(i,j) = Max(O_k(f(i,k), f(k+1,j)))$ þar sem k er stak valið af handahófi |\n",
    "| **röð** | minnkandi $(j-i)$ |\n",
    "| **grunntilvik** | $f(i,j) = a_i$ ef $i = j$ |\n",
    "| **lausn á upphaflegu** | $f(1,n)$ |\n",
    "| **tímaflækja** | fjöldi undirverkefna, O(n^2), * tími per undirv., O(n) = $O(n^3)$ |"
   ]
  },
  {
   "cell_type": "markdown",
   "metadata": {},
   "source": [
    "<!-- todo, alveg eftir að laga útfæra -->\n",
    "### tetris\n",
    "inntak: runa n kubba r[1...n], w (breidd borðs), h (hæð borðs)  \n",
    "finna: er hægt að lifa af (true, false)  \n",
    "forsendur:\n",
    "- láta kubba detta úr efstu línu\n",
    "- fullar raðir hreinsast ekki\n",
    "- breidd borðs er lítil\n",
    "- borð tómt í upphafi\n",
    "\n",
    "undirverkefni: T(i,h): er hægt að lifa af kubba R[i:n] h =(h1,h2,...,h2)  \n",
    "vensl: hvar á að setja kubb i?  \n",
    "röð minnkandi  \n",
    "grunntilvik: T(n,(h1,...,hw)) ) satt ef öll hi <= h, ósatt annars  \n",
    "upphafl verkefni T(1, (0,,...,0))  \n",
    "tímaflækja: fjöldi undirverkefna"
   ]
  },
  {
   "cell_type": "markdown",
   "metadata": {},
   "source": [
    "### lengsta vaxandi hlutruna - (LIS)\n",
    "**inntak:** runa `A[1...n]`  \n",
    "**finna:** lengstu hlutruna `A` þar sem öll stökin eru í vaxandi röð  \n",
    "**dæmi:** ein hlutruna\n",
    "$carbohydrate \\\\ ->\\  cry$  \n",
    "lengsta hlutruna\n",
    "$carbohydrate \\\\ ->\\  abort$  \n",
    "\n",
    "#### dæmi um vonda undirverkefna skilgreiningu\n",
    "**undirverkefni:** `L(i):` lengsta vaxandi hlutruna `A[i..n]`  \n",
    "**ákvörðun:** er `A[i]` með eða ekki\n",
    "\n",
    "**vensl:**\n",
    "$$L(i) = max(L(i+1)+1, L(1+2)+1....???)$$\n",
    "\n",
    "#### góð undirverkefnaskilgreining\n",
    "> hvernig tæklum við `A[i+1...n]` og tryggjum að hlutruna sé vaxandi? bætum við skorðu sem tryggir að hlutruna sé vaxandi\n",
    "\n",
    "**undirverkefni:** `L(i)`: L.v.h. `A[i...n]` sem inniheldur `A[i]`  \n",
    "**vensl:** þurfum að ákvarða næsta stak \n",
    "$k>i$\n",
    "$$L(i) = max(L(k)+1) \\text{ where } i<k\\leq n \\land A[i]<A[k] \\cup (1)$$\n",
    "\n",
    "**röð verkefna:** minnkandi i, (sjá ákvörðunarskrefið)  \n",
    "**grunntilvik:** \n",
    "$L(n) = 0$  \n",
    "**upphaflegt verkefni:** \n",
    "$max(L(i)) \\text{ þar sem } 1\\leq i \\leq n$  \n",
    "**tímaflækja:** fjöldi undirverkefna * tími per undirverkefni = \n",
    "$O(n) \\cdot O(n) = O(n^2)$"
   ]
  },
  {
   "cell_type": "markdown",
   "metadata": {},
   "source": [
    "### bakpokaverkefnið - knapsack problem\n",
    "\n",
    "**inntak:** listi af n hlutum, hver með virði `v[i]`, stærð `s[i]` og stærð bakpoka `S`  \n",
    "**finna:** mesta samanlagða virði hluta sem komast í pokann  \n",
    "**dæmi:** `S=60` `v[280, 100, 120, 120]` `s[40, 10, 20 ,24]`  \n",
    "**ákvörðun:** ætlum við að taka ehv ákveðinn hlut eða ekki  \n",
    "**undirverkefni:** `B(i, t)`:  mesta virði hluta `i...n` þegar laust pláss er t  \n",
    "**vensl:** \n",
    "$$B(i,t) = max(v[i] + B(i+1, t-s[i]), B(i+1, t))$$  \n",
    "$$1\\leq i\\leq n, 0 \\leq t \\leq S$$\n",
    "**röð:** minnkandi i  \n",
    "**grunntilvik:** `B(n+1, t) = 0` $0\\leq t\\leq S$  \n",
    "**upphafleg verkefni:** `B(1,S)`  \n",
    "**tímaflækja:** fjöldi undirverkefna, `n*S`, * tími per undirverkefni, O(1) = $O(nS)$\n"
   ]
  },
  {
   "cell_type": "markdown",
   "metadata": {},
   "source": [
    "## Netreiknirit (kafli 5)\n",
    "\n",
    "net eru skilgreind \n",
    "$G = (V, E)$\n",
    "\n",
    "**dæmi um net**\n",
    "1. tengslanet (dependency graph), til að tákna hvernig verk eru háð hvert öðru  \n",
    "til dæmi í rakningarvenslum:  \n",
    "**fibonacci** \n",
    "$$F_0 = 0, F_1 = 1 \\\\ F_n = F_{n-1}, F_{n-2}, n \\geq 2$$\n",
    "<!-- todo, #1 teikna mynd af fibo neti, líka hægt að vísa í fyrir ofan -->\n",
    "\n",
    "2. sniðnet (intersection graph), hringir / mengi sem skarast\n",
    "3. bilnet (interval graph), "
   ]
  },
  {
   "cell_type": "markdown",
   "metadata": {},
   "source": [
    "### Dæmi, málningarfatan í MS-Paint (flood-fill)\n",
    "við erum með bitmap mynd"
   ]
  },
  {
   "cell_type": "markdown",
   "metadata": {},
   "source": [
    "### Dýptarleit\n",
    "\n",
    "```\n",
    "DFS(v) {\n",
    "    // Merkja v\n",
    "    Previsit(v)\n",
    "    ítra yfir alla leggi vw\n",
    "        Processedge(v,w)\n",
    "        ef w er ómerktur\n",
    "        foreldri(w) <- v\n",
    "        DFS(w)\n",
    "    Postvisit(v)\n",
    "}\n",
    "```"
   ]
  },
  {
   "cell_type": "markdown",
   "metadata": {},
   "source": [
    "### dfsall\n",
    "reiknirit sem ýtrar yfir alla hnúta í neti\n",
    "\n",
    "```\n",
    "DFSALL(G) {\n",
    "    PREPROCESS(G)\n",
    "    ítra yfir all hnúta V {\n",
    "        afmerkja v\n",
    "    }\n",
    "    ítra yfir alla hnúta V {\n",
    "        ef v ómerktur\n",
    "        DFS(v)\n",
    "    }\n",
    "}\n",
    "```"
   ]
  },
  {
   "cell_type": "markdown",
   "metadata": {},
   "source": [
    "### For- og eftirröðunaryfirferð (pre-order & post-order)\n",
    "\n",
    "**Dæmi:** tré sem lýsir reiknisegð  \n",
    "![reiknitré](imgs/calctree.excalidraw.png)  \n",
    "þessi framsetning hefur ýmislegt framyfir venjulega framsetningu \n",
    "$2\\cdot 3+5$, þetta er eftirröðun"
   ]
  },
  {
   "cell_type": "markdown",
   "metadata": {},
   "source": [
    "### Preprocess fall\n",
    "```\n",
    "PREPROCESS(G) {\n",
    "    tími = 0\n",
    "}\n",
    "PREVISIT(v) {\n",
    "    tími += 1\n",
    "    v.pre = tími\n",
    "}\n",
    "POSTVISIT(u) {\n",
    "    tími += 1\n",
    "    v.post = tími\n",
    "}\n",
    "PROCESS_EDGE(u,v) {\n",
    "    pass\n",
    "}\n",
    "```"
   ]
  },
  {
   "cell_type": "markdown",
   "metadata": {},
   "source": [
    "### Ástönd hnúta\n",
    "1. nýr $v.pre < tími$\n",
    "2. virkur, $v.pre \\leq tími < v.post$\n",
    "3. búinn, $v.post \\geq tími$\n",
    "\n",
    "DFSALL merkir alla hnúta í netinu með pre og post, Tímflækja `O(|V|+|E|)`  \n",
    "tímar eru skilgreindir inn í hnútum sem (pre/post)  \n",
    "\n",
    "\n",
    "![ástönd](imgs/vertexStates.excalidraw.png)"
   ]
  },
  {
   "cell_type": "markdown",
   "metadata": {},
   "source": [
    "### flokkun leggja u -> v (stefnt net)\n",
    "#### 1.\n",
    "v nýr þegar DFS(u) byrjar  \n",
    "$u.pre < v.pre < v.post < u.post$\n",
    "1. **trjáleggur** ef foreldri(v) = u: [u] -> [v]\n",
    "2. **framleggur** annars [u] ...> [v]\n",
    "\n",
    "#### 2. bakleggur\n",
    "v virkur þegar DFS(u) byrjar  \n",
    "$v.pre < u.pre < u.post < v.post$ [v] <- [u]\n",
    "\n",
    "#### 3. krossleggur\n",
    "v lokið þegar DFS(u) byrjar  \n",
    "$v.post < u.pre$\n",
    "\n",
    "ef við skoðum myndina í ástöndum hnúta getum við bætt við skilgreiningu á leggjunum, sjá mynd:  \n",
    "\n",
    "![leggir](imgs/vertexStates2.excalidraw.png)"
   ]
  },
  {
   "cell_type": "markdown",
   "metadata": {},
   "source": [
    "### ákvörðum hvort net hafi hringrás með DFS\n",
    "ef \n",
    "$u.post < v.post$ fyrir ehv legg \n",
    "$u\\\\ ->\\  v$ þá er vegur frá v til u og\n",
    "$u\\\\ ->\\  v$ liggur því á hringrás "
   ]
  },
  {
   "cell_type": "markdown",
   "metadata": {},
   "source": [
    "### Grannröðun, topological sort / ordering\n",
    "grunnröðun á stefndu, órásuðu neti (directed acyclic graph) \n",
    "fæst með því að raða hnútum á lárétta línu þannig að allir leggir bendi frá vinstri til hægri\n",
    "\n",
    "**formlega:** grannröðun er línuleg röðun á hnútum þannig að u < v ef \n",
    "$u\\ ->\\ v$ er leggur  \n",
    "**setning:** sérhvert DAG á sér grannröðun  \n",
    "**hagnýting:** höfum verk `v1,...,vn` sem þarf að vinna, \n",
    "$v_i \\\\ ->\\  v_j$ táknar að við þurfum að ljúka \n",
    "$v_i$ áður en við byrjum á \n",
    "$v_j$  \n",
    "\n",
    "![topological sort](imgs/topological.excalidraw.png)"
   ]
  },
  {
   "cell_type": "markdown",
   "metadata": {},
   "source": [
    "## stystu vegir\n",
    "**inntak:** vegið, stefnt net \n",
    "$G=(V,E,w)$  \n",
    "w táknar vogtölur á leggjum, þe. vegalengd, kostnað tap, tíma osfr...  \n",
    "**finna:** stysta (léttasta) veg frá $s\\in V$ til $t\\in V$, þe. stysta veg frá $s$ til $t$ þar sem báðir hnútar eru í $V$ og vegurinn lágmarkar \n",
    "$w(p)=\\sum_{i=1}^k w(v_{i-1}, v_i)$  \n",
    "**látum:** \n",
    "$f(s,v)$: tákna stysta veg frá s til v  \n",
    "**dæmi:**  \n",
    "![dæmi um net með margar stystu](imgs/shortest_path.excalidraw.png)  \n",
    "dæmi um net með marga stystu vegi  \n",
    "*ath*\n",
    "1. flest reiknirit gefa stystu vegi frá s í alla aðra hnúta $v\\in V$ (SSSP)\n",
    "2. neikvæðar vogtölur geta vandræðum, endalausar lykkjur  \n",
    "\n",
    "**setning:** sérhver hlutvegur á stysta vegi er stysti vegur  \n",
    "**sönnun:** látum p tákna stysta veg frá s til t  \n",
    "![sönnun á setningu](imgs/shortest_sub.excalidraw.png)  \n",
    "þá er $w(P)=w(Psx)+w(Pxy)+W(Pyt)$. \n",
    "gerum ráð fyrir að til sé styttri vegur $P'xy$ frá $x$ til $y$, \n",
    "$$w(P'xy) < w(Pxy)$$  \n",
    "athugum veg $P'$ þá er \n",
    "$w(P')=w(Psx)+w(P'xy)+w(Pyt) < w(P)$ sem er móts0gn við upphaflega sönnun"
   ]
  },
  {
   "cell_type": "markdown",
   "metadata": {},
   "source": [
    "## Reiknirit geyma\n",
    "### V.d\n",
    "efri mörk á \n",
    "$f(s,v) [\\infty\\ \\text{í upphafi}]$\n",
    "\n",
    "### V.pred\n",
    "næsti hnútur á undan v á veginum\n",
    "\n",
    "```\n",
    "INITSSSP(s)\n",
    "    ítra yfir alla v í V \n",
    "    v.d = inf\n",
    "    v.pred = NULL\n",
    "    s.d = 0\n",
    "```\n",
    "\n",
    "relax geymir v.d og v.pred, v.d er mat á lengd stysta vega, upphaflega endalaust, en með ýtrunum batnar og batnar  \n",
    "ef hnútur frá u til v sem hefur veg w(u,v) og u hefur u.d og u.pred  \n",
    "það sem fallið gerir er að athuga hvort u.d + w(u,v) sé minna en v.d og ef svo er, þá uppfæra v.d sem u.d + w(u,v) og setja v.pred sem u, v.pred er basically parent \n",
    "```\n",
    "RELAX(u,v)\n",
    "    if u.d + w(u,v) < v.d\n",
    "        v.d = u.d + w(u,v)\n",
    "        v.pred = u\n",
    "```"
   ]
  },
  {
   "cell_type": "markdown",
   "metadata": {},
   "source": [
    "## bellman-ford\n",
    "\n",
    "Virkar fyrir öll $w\\in \\R$\n",
    "```\n",
    "BellmanFord(s)                          // fall er O(|V|*|E|)\n",
    "    INITSSSP(s)\n",
    "    ítra i = 1 til |V| - 1              // lykkja er O(|V|)\n",
    "        ítra yfir alla leggi (u,v) í E  // lykkja er O(|E|)\n",
    "            RELAX(u,v)\n",
    "\n",
    "    ítra yfir alla leggi (u,v) í E\n",
    "        if v.x > u.d + w(u,v)\n",
    "            return false // það er neikvæð hringrás á veginum\n",
    "    return true\n",
    "```"
   ]
  },
  {
   "cell_type": "markdown",
   "metadata": {},
   "source": [
    "## SSSPDAGS(s)\n",
    "```\n",
    "SSSPDAGS(s)\n",
    "    // grannröðum hnútum                    // tími O(|V|+|E|)\n",
    "    INITSSSP(s)                             // tími O(|V|)\n",
    "    ítra yfir alla hnúta s skv. grannröðun  // tími O(|E|)\n",
    "        ítra yfir alla hnúta v þar sem u -> v  \n",
    "            RELAX(u,v)\n",
    "```  \n",
    "heildartími er þá O(V+E)  \n",
    "\n",
    "![SSPDAGS](imgs/sspdags.excalidraw.png)"
   ]
  },
  {
   "cell_type": "markdown",
   "metadata": {},
   "source": [
    "## reiknirit Dijkstra\n",
    "\n",
    "- öll $w(u,v) \\geq 0$\n",
    "- breiddarleit með forgangsbiðröð\n",
    "- lyklar eru v.d\n",
    "\n",
    "```\n",
    "dijkstra(s)\n",
    "    INITSSSP(s)\n",
    "    Q = {}  // binary heap, minnsta á föstum stað\n",
    "    ítra yfir alla v í V\n",
    "        Q.insert(v, v.d)        // O(log(v))\n",
    "    while Q.not_empty()         // O(|E|)\n",
    "        u = Q.extractMin()\n",
    "        ítra yfir alla (u,v)\n",
    "            RELAX(u,v)\n",
    "            DecreseKey(v, v.d)  // O(log(v))\n",
    "```\n",
    "heildartími O(|E|*log(|v|))"
   ]
  },
  {
   "cell_type": "markdown",
   "metadata": {},
   "source": [
    "## yfirlit netareiknirita\n",
    "\n",
    "|Net `G=(V,E)`|Vogtölur|Reiknirit|Tímaflækja|\n",
    "|-------------|--------|---------|----------|\n",
    "|Almennt|$w\\in\\R, w\\geq 0$|Dijkstra|`O(log\\|V\\|*\\|E\\|)`|\n",
    "|Almennt|$w\\in\\R$|Bellman-Ford|`O(\\|E\\|*\\|V\\|)`|\n",
    "|Stefnt, órásað (DAG)|$w\\in\\R$|SSSPDAG|`O(\\|V\\|+\\|E\\|)`|"
   ]
  },
  {
   "cell_type": "markdown",
   "metadata": {},
   "source": [
    "## gróft SSSPDAG DP\n",
    "\n",
    "undirverkefni eru SP(v): stysti vegur í $v\\in V$  \n",
    "rakningarvensl eru $SP(V)=min(SP(u)+w(u,v) u: (u,v)\\in E$ , þ.e. fyrir alla hnúta aðlæga v  \n",
    "grunntilvik er SP(S)=0  \n",
    "röð verkefna er grannröðun  \n",
    "upphaflegt verkefni er SP(t) þar sem verið er að finna stysta hnút frá s til t  \n",
    "tímaflækja"
   ]
  },
  {
   "cell_type": "markdown",
   "metadata": {},
   "source": [
    "## flæði neta\n",
    "\n",
    "í sérstökum flæðinetum, sjá mynd, hafa vegir bæði flæði og rými, þetta er táknað sem <flæði>/<rými>  \n",
    "\n",
    "![flæðinet](imgs/flaedinet.excalidraw.png)\n",
    "\n",
    "- flæði táknar núverandi flæði yfir legg\n",
    "- rýmið táknar heildarflæði sem getur verið yfir þann legg  \n",
    "\n",
    "<!-- ! þarf að tékka á þessu :3 -->\n",
    "heildarflæði í slíkum netum er summa flæðis sem kemur frá **S** hnút \n",
    "\n",
    "þessi týpa af netum hefur aðra birtingarmynd sem kallast afgangsnet sem er notað við reikninga með *Ford-Fulkersson* reikniritinu  \n",
    "afgangsnetið er notað til að finna aukningarveg innan netsins, veg sem eykur heildarflæði  \n",
    "\n",
    "![afgangsnet](imgs/flaedinet2.excalidraw.png)\n",
    "\n",
    "\n",
    "\n",
    "hægt er að skipta svona netum upp í S,T mengi þar sem gildið á því mengi er summa rými vega sem fer úr S yfir í T sjá mynd"
   ]
  },
  {
   "cell_type": "markdown",
   "metadata": {},
   "source": [
    "## hagnýting flæðisreiknirita\n",
    "\n",
    "**einföld uppsetning:**  \n",
    "verkefni -> verkefni aðlagað flæði -> [ flæðisreiknirit ] -> lausn\n",
    "\n",
    "### aðskildir vegir mtt leggja\n",
    "**finnum aðskilda vegi í neti** -> breytum netinu í flæðirit með rýmd 1 -> maxflow -> lausn\n",
    "\n",
    "### aðskildir vegir mtt hnúta\n",
    "> takmörkum rými á hnútum, hver hnútur leyfir bara x miklu að flæða í gegn um sig  \n",
    "**takmörkum rými** -> tvöföldum alla hnúta, þannig hver gamli hafi núna in og out, og bætum legg með takmarki úr in í out -> maxflow -> lausn\n",
    "\n",
    "![takmörkun hnúta](imgs/vmtte.excalidraw.png)\n",
    "\n",
    "\n",
    "### spyrðingar (matching)\n",
    "spyrðing í neti eru leggir sem tengja tvo hnúta án þess að snerta neina aðra spyrða (???) hnúta, spyrðingar eru fullkomnar ef allir hnútar eru partur af spyrðingunni  \n",
    "\n",
    "![dæmi um spyrðingu](imgs/matching.excalidraw.png)\n",
    "\n",
    "við getum fundið spyrðingu af hámarksstærð í tvíhlutaneti með því að breyta í flæðisrit  \n",
    "látum S stefna í alla hnúta hægra megin og alla hnúta vinstra megin stefna í T  \n",
    "setjum flæði á alla leggi sem 1 og keyrum svo maxflow\n"
   ]
  },
  {
   "attachments": {},
   "cell_type": "markdown",
   "metadata": {},
   "source": [
    "## þakning með vegum\n",
    "á stefndu neti `G` er safn stefndra vega þannig að sérhver hnútur liggur a.m.k. einum vegi\n",
    "\n",
    "þar sem *venjuleg* net eru NP-erfið höldum við okkur við DAGs\n",
    "\n",
    "byrjum á að taka DAG og breyta því í flæðisnet, þar sem hver hnútur fær inn-hnút og út-hnút  \n",
    "með þessari skiptingu þá erum við búin gera okkur kleyft að skipta netinu í tvíhlutanet, skoðum mynd:  \n",
    "\n",
    "![þakning](imgs/thakning.excalidraw.png)\n",
    "\n",
    "hér í hægra netinu eru hringhnútarnir út og kassahnútarnir inn, og eins og sést þá tengjast þeir aldrei tvíbura sínum og þannig getum við skipt upp í tvískipt net\n",
    "\n",
    "![bi graph](imgs/bi.excalidraw.png)\n"
   ]
  },
  {
   "attachments": {},
   "cell_type": "markdown",
   "metadata": {},
   "source": [
    "## verkefnaval\n",
    "við fáum n verkefni sem við getum valið að vinna, sum verkefni krefjast þess að önnur séu unnin fyrst  \n",
    "hvaða verk á að vinna til að hámarka laun?\n",
    "\n",
    "setjum verkefnið upp sem flæðisnet þar sem s bendir til allra jákvæðra verkefna og flæði leggsins er jafnt gildi hnútsins, flæði fyrir leggi forkrafa er óendanlegt\n",
    "\n",
    "skiptum"
   ]
  },
  {
   "attachments": {},
   "cell_type": "markdown",
   "metadata": {},
   "source": [
    "# línuleg bestun\n",
    "\n",
    "leysir stærra mengi verkefna en min-flow, max-flow\n",
    "\n",
    "í grófu þá er maður að reyna finna gildi fyrir d breytur $(x \\in R)$ þar sem x er vigur\n",
    "<!-- todo, finna mynd í glósunum með orku, prótein og kalk töfluna -->"
   ]
  },
  {
   "attachments": {},
   "cell_type": "markdown",
   "metadata": {},
   "source": [
    "# P og NP vandamál\n",
    "snýst í grunnin um yfirfærslur á verkefnum\n",
    "- finna spyrðingu í tvíhlutaneti -> flæðisneta verkefni\n",
    "- reikna vaktir flugmanna -> línuleg bestunarverkefni\n",
    "\n",
    "Auðvelt verkefni\n",
    "A --yfirfærsla--> A' --[blackbox]--> L' --> L\n",
    "hér gerum við ráð fyrir að yfirfærslan og blackbox taki margliðutíma\n",
    "\n",
    "Erfitt verkefni\n",
    "C --yfirfærsla--> C' --[blackbox]--> D' --> D\n",
    "hér gerum við ráð fyrir að blackbox taki margliðutíma en við vitum ekki hvað C' tekur\n",
    "\n",
    "þannig að:  \n",
    "- **Auðveld verkefni:** verkefni sem við getum leyst með tölvum\n",
    "- **Erfið verkefni:** verkefni sem tölvur geta almennt ekki leyst á stuttum tíma\n",
    "\n",
    "auðvelt að sýna fram á að verkefni sé auðvelt, einfaldlega finna reiknirit sem leysir verkefni á stuttum tíma, það er ekki endilega besta lausn en nógu góð samt\n",
    "\n",
    "## ákvörðunarverkefni\n",
    "verkefni sem skila lausn sem er annaðhvort já eða nei *dæmi:* \n",
    "- er Hamilton-rás í vegi?\n",
    "- er til flæði með heildargildi hærra en x?\n",
    "\n",
    "með því að finna ákvörðunarverkefni má hugsanlega auðvelda heildarverkefni  \n",
    "eiginleikar ákvörðunarverkefna:  \n",
    "- P | hægt að leysa verkefnið á marglitðutíma\n",
    "- NP | hægt að staðfesta að svarið sé já á margliðutíma\n",
    "- co-NP | hægt að staðfesta að svarið sé nei á margliðutíma"
   ]
  }
 ],
 "metadata": {
  "kernelspec": {
   "display_name": "Python 3 (ipykernel)",
   "language": "python",
   "name": "python3"
  },
  "language_info": {
   "codemirror_mode": {
    "name": "ipython",
    "version": 3
   },
   "file_extension": ".py",
   "mimetype": "text/x-python",
   "name": "python",
   "nbconvert_exporter": "python",
   "pygments_lexer": "ipython3",
   "version": "3.10.0"
  },
  "vscode": {
   "interpreter": {
    "hash": "7e1998ff7f8aa20ada591c520b972326324e5ea05489af9e422744c7c09f6dad"
   }
  }
 },
 "nbformat": 4,
 "nbformat_minor": 2
}
