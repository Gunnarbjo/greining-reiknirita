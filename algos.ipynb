{
 "cells": [
  {
   "attachments": {},
   "cell_type": "markdown",
   "metadata": {},
   "source": [
    "# reiknirit\n",
    "ætla reyna að halda uppi python útfærslum af sauðakóða reikniritum sem sett eru fyrir ásamt tímaflækjum fyrir þau ef mögulegt\n",
    "\n",
    "- [insertion sort](#insertion-sort)\n",
    "- [selection sort](#selection-sort)\n",
    "- [merge sort](#merge-sort)"
   ]
  },
  {
   "attachments": {},
   "cell_type": "markdown",
   "metadata": {},
   "source": [
    "## insertion sort\n",
    "\n",
    "> ath. þessu sauðakóði notast við 1-indexing, þ.e. fylki byrja á 1 ekki 0\n",
    "```\n",
    "insertion_sort(A, n) {\n",
    "    // usually, n = length of A\n",
    "    for i = 2 to n {\n",
    "        key = A[i]\n",
    "        // insert A[i] into the sorted sequence A[1...i-1]\n",
    "        j = i - 1\n",
    "        while j > 0 and A[j] > key {\n",
    "            A[j + 1] = A[j]\n",
    "            j = j - 1\n",
    "        }\n",
    "        A[j + 1] = key\n",
    "    } \n",
    "} \n",
    "```\n",
    "\n",
    "| case | tími |\n",
    "| ---- | ----:|\n",
    "| best | O(n) |\n",
    "| worst|O(n^2)|"
   ]
  },
  {
   "cell_type": "code",
   "execution_count": 2,
   "metadata": {},
   "outputs": [
    {
     "name": "stdout",
     "output_type": "stream",
     "text": [
      "[1, 2, 3, 4, 5]\n",
      "[5, 4, 3, 2, 1]\n"
     ]
    }
   ],
   "source": [
    "def insertion_sort(A): \n",
    "    n = len(A)\n",
    "    for i in range(1, n):\n",
    "        key = A[i]\n",
    "        # insert A[i] into the sorted sequence A[1...j-1]\n",
    "        j = i - 1\n",
    "        while j > 0 and A[i] > key:\n",
    "            A[j + 1] = A[i]\n",
    "            j = j - 1\n",
    "        A[j + 1] = key\n",
    "    return A\n",
    "\n",
    "best_case  = [1,2,3,4,5]\n",
    "worst_case = [5,4,3,2,1]\n",
    "\n",
    "print(insertion_sort(best_case))\n",
    "print(insertion_sort(worst_case))"
   ]
  },
  {
   "cell_type": "code",
   "execution_count": 17,
   "metadata": {},
   "outputs": [
    {
     "name": "stdout",
     "output_type": "stream",
     "text": [
      "[1, 2, 3, 4, 5]\n",
      "[1, 2, 3, 4, 5]\n"
     ]
    }
   ],
   "source": [
    "def selection_sort(arr):\n",
    "    for i in range(len(arr) - 1):\n",
    "        s = i\n",
    "        for j in range(i + 1, len(arr)):\n",
    "            if arr[j] < arr[s]:\n",
    "                s = j\n",
    "        \n",
    "        temp = arr[i]\n",
    "        arr[i] = arr[s]\n",
    "        arr[s] = temp\n",
    "\n",
    "    return arr\n",
    "\n",
    "best_case  = [1,2,3,4,5]\n",
    "worst_case = [5,4,3,2,1]\n",
    "\n",
    "print(selection_sort(best_case))\n",
    "print(selection_sort(worst_case))"
   ]
  },
  {
   "attachments": {},
   "cell_type": "markdown",
   "metadata": {},
   "source": [
    "## merge sort\n",
    "hefur tvo hluta, skiptingu og sameiningu, *merge*\n",
    "\n",
    "```\n",
    "merge(arr, m) {\n",
    "    i = 1, j = m + 1\n",
    "    for k = 1 to n {\n",
    "        if j > n {\n",
    "            brr[k] = arr[i]\n",
    "            i++\n",
    "        } else if i > m {\n",
    "            brr[k] = arr[j]\n",
    "            j++\n",
    "        } else if arr[i] < arr[j] {\n",
    "            brr[k] = arr[i]\n",
    "            i++\n",
    "        } else {\n",
    "            brr[k] = arr[j]\n",
    "            j++\n",
    "        }\n",
    "    }\n",
    "    for k = 1 to n {\n",
    "        arr[k] = brr[k]\n",
    "    }\n",
    "}\n",
    "\n",
    "merge_sort(arr) {\n",
    "    if arr.length > 1 {\n",
    "        m = arr.length >> 1\n",
    "        merge_sort(arr[1..m])\n",
    "        merge_sort(arr[m+1..arr.lenght])\n",
    "        merge(arr, m)\n",
    "    }\n",
    "}\n",
    "```\n",
    "\n",
    "| case | tími |\n",
    "| ---- | ----:|\n",
    "| best | O(n) |\n",
    "| worst|O(n^2)|"
   ]
  }
 ],
 "metadata": {
  "kernelspec": {
   "display_name": "Python 3",
   "language": "python",
   "name": "python3"
  },
  "language_info": {
   "codemirror_mode": {
    "name": "ipython",
    "version": 3
   },
   "file_extension": ".py",
   "mimetype": "text/x-python",
   "name": "python",
   "nbconvert_exporter": "python",
   "pygments_lexer": "ipython3",
   "version": "3.10.0 (default, Jan  1 2022, 16:55:34) [GCC 9.3.0]"
  },
  "orig_nbformat": 4,
  "vscode": {
   "interpreter": {
    "hash": "7e1998ff7f8aa20ada591c520b972326324e5ea05489af9e422744c7c09f6dad"
   }
  }
 },
 "nbformat": 4,
 "nbformat_minor": 2
}
