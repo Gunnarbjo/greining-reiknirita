{
 "cells": [
  {
   "cell_type": "code",
   "execution_count": 11,
   "metadata": {},
   "outputs": [
    {
     "name": "stdout",
     "output_type": "stream",
     "text": [
      "n | string           | splittable for n\n",
      "1 | apalil           | False\n",
      "1 | BUBBASEESABANANA | False\n",
      "----------------------------------------\n",
      "2 | apalil           | True\n",
      "2 | BUBBASEESABANANA | False\n",
      "----------------------------------------\n",
      "3 | apalil           | False\n",
      "3 | BUBBASEESABANANA | True\n",
      "----------------------------------------\n"
     ]
    }
   ],
   "source": [
    "def is_palindrome(s):\n",
    "    return s == s[::-1]\n",
    "\n",
    "\n",
    "def palindrome_split(s, k):\n",
    "    if k == 0 and len(s) == 0:\n",
    "        return True\n",
    "    for i in range(2, len(s)+1):\n",
    "        if is_palindrome(s[:i]) and palindrome_split(s[i:], k-1):\n",
    "            return True\n",
    "    return False\n",
    "\n",
    "\n",
    "test_string_1 = \"apalil\"\n",
    "test_string_2 = \"BUBBASEESABANANA\"\n",
    "print(f\"n | {'string':16} | splittable for n\")\n",
    "for i in range(1, 4):\n",
    "    print(f\"{i} | {test_string_1:16} | {palindrome_split(test_string_1, i)}\")\n",
    "    print(f\"{i} | {test_string_2:16} | {palindrome_split(test_string_2, i)}\")\n",
    "    print(\"----------------------------------------\")"
   ]
  }
 ],
 "metadata": {
  "kernelspec": {
   "display_name": "Python 3",
   "language": "python",
   "name": "python3"
  },
  "language_info": {
   "codemirror_mode": {
    "name": "ipython",
    "version": 3
   },
   "file_extension": ".py",
   "mimetype": "text/x-python",
   "name": "python",
   "nbconvert_exporter": "python",
   "pygments_lexer": "ipython3",
   "version": "3.10.0 (default, Jan  1 2022, 16:55:34) [GCC 9.3.0]"
  },
  "orig_nbformat": 4,
  "vscode": {
   "interpreter": {
    "hash": "7e1998ff7f8aa20ada591c520b972326324e5ea05489af9e422744c7c09f6dad"
   }
  }
 },
 "nbformat": 4,
 "nbformat_minor": 2
}
