{
  "cells": [
    {
      "cell_type": "markdown",
      "metadata": {
        "id": "z6a1nBxfcRns"
      },
      "source": [
        "# Flæðisverkefni í verkefnatíma 8 í Greiningu Reiknirita í HÍ"
      ]
    },
    {
      "cell_type": "markdown",
      "metadata": {
        "id": "BjMJcbXL6Arg"
      },
      "source": [
        "Setja þarf upp Google OR-Tools pakkann með eftirfarandi skipun. Athugið að þið þurfið að tengjast umhverfinu aftur eftir að þið hafið sett pakkann upp. Það mun birtast takki sem gerir ykkur kleyft að gera það."
      ]
    },
    {
      "cell_type": "code",
      "execution_count": 1,
      "metadata": {
        "colab": {
          "base_uri": "https://localhost:8080/"
        },
        "id": "8RlJerlWcRnt",
        "outputId": "1345e936-ad3c-4c10-f769-5a1206811c4d"
      },
      "outputs": [
        {
          "name": "stdout",
          "output_type": "stream",
          "text": [
            "Defaulting to user installation because normal site-packages is not writeable\n",
            "Requirement already satisfied: ortools in /home/tumi/.local/lib/python3.10/site-packages (9.5.2237)\n",
            "Requirement already satisfied: protobuf>=4.21.5 in /home/tumi/.local/lib/python3.10/site-packages (from ortools) (4.22.0)\n",
            "Requirement already satisfied: numpy>=1.13.3 in /home/tumi/.local/lib/python3.10/site-packages (from ortools) (1.22.1)\n",
            "Requirement already satisfied: absl-py>=0.13 in /home/tumi/.local/lib/python3.10/site-packages (from ortools) (1.2.0)\n"
          ]
        }
      ],
      "source": [
        "!pip install ortools"
      ]
    },
    {
      "cell_type": "markdown",
      "metadata": {
        "id": "bIjQCq5251Dl"
      },
      "source": [
        "Fyrst búum við til netið sem við ætlum að vinna með í verkefninu. Ekki þarf að breyta eftirfarandi kóðabút. Allir vinna með sama netið í þessu verkefni."
      ]
    },
    {
      "cell_type": "code",
      "execution_count": 2,
      "metadata": {
        "id": "Ll7LIadFce9a"
      },
      "outputs": [],
      "source": [
        "# Búum til netið, það þarf ekki að breyta kóða í þessari sellu\n",
        "import numpy as np\n",
        "np.random.seed(42)\n",
        "\n",
        "n = 400\n",
        "p = 0.05\n",
        "\n",
        "partition_size = 50\n",
        "partition_segments = [(x,x+partition_size) for x in range(1,n-partition_size,partition_size)]\n",
        "\n",
        "start_nodes = [] # Upphafshnútur leggjar\n",
        "end_nodes = [] # Endahnútur leggjar\n",
        "capacities = [] # Rými \n",
        "for n_min, n_max in partition_segments:\n",
        "  for i in range(n_min,n_max):\n",
        "    for j in range(n_min+partition_size,n_max+partition_size):\n",
        "      if i != j and np.random.random() < p:\n",
        "        start_nodes.append(i)\n",
        "        end_nodes.append(j)\n",
        "        capacities.append(np.random.randint(1,10))\n",
        "\n",
        "# Leggir frá upphafshnút\n",
        "for i in range(1,1+partition_size):\n",
        "  start_nodes.append(0)\n",
        "  end_nodes.append(i)\n",
        "  capacities.append(np.random.randint(20,40))\n",
        "\n",
        "# Leggir að endahnút\n",
        "for i in range(n+1-partition_size,n+1):\n",
        "  start_nodes.append(i)\n",
        "  end_nodes.append(401)\n",
        "  capacities.append(np.random.randint(20,40))"
      ]
    },
    {
      "cell_type": "markdown",
      "metadata": {
        "id": "TGLSx2AX6Xx6"
      },
      "source": [
        "Verkefnið byrjar í raun hér, þið þurfið að reikna hámarksflæðið í netinu og segja til um hvort það sé einstakt eða ekki."
      ]
    },
    {
      "cell_type": "code",
      "execution_count": 3,
      "metadata": {
        "id": "y0UHkF2IcRnt"
      },
      "outputs": [],
      "source": [
        "from __future__ import print_function\n",
        "from ortools.graph.python import max_flow\n",
        "\n",
        "# Fáum solver sem getur leyst flæðisverkefni\n",
        "smf = max_flow.SimpleMaxFlow()\n",
        "# Byggjum netið í einni skipun, all_arcs inniheldur alla leggi\n",
        "all_arcs = smf.add_arcs_with_capacity(start_nodes, end_nodes, capacities)"
      ]
    },
    {
      "cell_type": "markdown",
      "metadata": {
        "id": "oez32wfgQZ_U"
      },
      "source": [
        "# Hámarksflæði\n",
        "Hvert er hámarksflæðið í netinu frá hnút 0 að hnút 401? Reiknaðu út hámarksflæðið með því að nota OR-Tools pakkann. Þú getur fundið leiðbeiningar hér: https://developers.google.com/optimization/flow/maxflow"
      ]
    },
    {
      "cell_type": "code",
      "execution_count": 4,
      "metadata": {
        "id": "hQCG7x82lTM5"
      },
      "outputs": [
        {
          "name": "stdout",
          "output_type": "stream",
          "text": [
            "hámarksflæði frá 0 að 401 er 283\n"
          ]
        }
      ],
      "source": [
        "max0to401 = smf.solve(0, 401)\n",
        "old_flow = smf.optimal_flow()\n",
        "print(f'hámarksflæði frá 0 að 401 er {old_flow}')"
      ]
    },
    {
      "cell_type": "markdown",
      "metadata": {
        "id": "JscVMGmyREbB"
      },
      "source": [
        "# Er flæðið einstakt?\n",
        "Á heimaverkefni 7 var dæmi þar sem kanna átti hvort flæði væri einstakt eða ekki. Prófaðu að kanna hvort það sé raunin hér eða ekki.\n",
        "\n",
        "Fyrir sérhvern legg sem er mettaður í hámarksflæðinu skaltu prófa eftirfarandi:\n",
        "\n",
        "1. lækkaðu rými leggjarins um einn\n",
        "2. reiknaðu aftur hámarksflæði og kannaðu hvort það hafi sama gildi og hámarksflæðið sem þú fannst áður\n",
        "3. hækkaðu rými leggjarins aftur um einn áður en þú prófar næsta legg\n",
        "\n",
        "Ef þú færð sama hámarksflæði og áður fyrir einhvern legg þá getur þú ályktað að flæðið sé ekki einstakt. Ef þú lendir í því að hámarksflæðið lækkar skaltu prenta að leggurinn sé takmarkandi að neðan.\n",
        "\n",
        "Þú getur notað `smf.SetArcCapacity(e,x)` til að láta legginn `e` fá rýmið `x`."
      ]
    },
    {
      "cell_type": "code",
      "execution_count": 12,
      "metadata": {
        "id": "DMMUs1NoRC7x"
      },
      "outputs": [
        {
          "name": "stdout",
          "output_type": "stream",
          "text": [
            "flæði er ekki einstakt, fannst við breytingu á legg 7 -> 65 þ.e. vegur nr 21\n"
          ]
        }
      ],
      "source": [
        "solution_flows = smf.flows(all_arcs)\n",
        "\n",
        "for arc, flow, capacity in zip(all_arcs, solution_flows, capacities):\n",
        "    if flow == capacity:\n",
        "        smf.set_arc_capacity(arc, capacity - 1)\n",
        "        new_flow = smf.solve(0, 401)\n",
        "\n",
        "        if old_flow == smf.optimal_flow():\n",
        "            print(f\"flæði er ekki einstakt, fannst við breytingu á legg {smf.tail(arc)} -> {smf.head(arc)} þ.e. vegur nr {arc}\")\n",
        "            smf.set_arc_capacity(arc, capacity)\n",
        "            break\n",
        "        smf.set_arc_capacity(arc, capacity)\n"
      ]
    }
  ],
  "metadata": {
    "colab": {
      "provenance": []
    },
    "kernelspec": {
      "display_name": "Python 3",
      "name": "python3"
    },
    "language_info": {
      "codemirror_mode": {
        "name": "ipython",
        "version": 3
      },
      "file_extension": ".py",
      "mimetype": "text/x-python",
      "name": "python",
      "nbconvert_exporter": "python",
      "pygments_lexer": "ipython3",
      "version": "3.10.0"
    }
  },
  "nbformat": 4,
  "nbformat_minor": 0
}
