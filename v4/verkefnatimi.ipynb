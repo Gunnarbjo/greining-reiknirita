{
 "cells": [
  {
   "cell_type": "code",
   "execution_count": 29,
   "metadata": {},
   "outputs": [],
   "source": [
    "import numpy as np\n",
    "import time\n",
    "\n",
    "np.random.seed = 69420\n",
    "def generate_seq(n=15, min_val=0, max_val=14):\n",
    "    return np.random.randint(min_val, max_val, n)\n",
    "\n",
    "def lcs(A, B, i, j):\n",
    "    if len(A) <= i or len(B) <= j:\n",
    "        return 0\n",
    "    if (A[i] == B[j]):\n",
    "        return 1 + lcs(A, B, i+1, j+1)\n",
    "    \n",
    "    return max(lcs(A, B, i+1, j), lcs(A, B, i, j+1))"
   ]
  },
  {
   "cell_type": "code",
   "execution_count": 33,
   "metadata": {},
   "outputs": [
    {
     "name": "stdout",
     "output_type": "stream",
     "text": [
      "----------------------------------------\n",
      "lcs:  1, (0.00 s) A:   5, B:   5\n",
      "----------------------------------------\n",
      "lcs:  4, (0.00 s) A:   5, B:  10\n",
      "----------------------------------------\n",
      "lcs:  3, (0.01 s) A:   5, B:  15\n",
      "----------------------------------------\n",
      "lcs:  1, (0.00 s) A:  10, B:   5\n",
      "----------------------------------------\n",
      "lcs:  4, (0.06 s) A:  10, B:  10\n",
      "----------------------------------------\n",
      "lcs:  4, (0.39 s) A:  10, B:  15\n",
      "----------------------------------------\n",
      "lcs:  3, (0.00 s) A:  15, B:   5\n",
      "----------------------------------------\n",
      "lcs:  3, (0.36 s) A:  15, B:  10\n",
      "----------------------------------------\n",
      "lcs:  6, (7.14 s) A:  15, B:  15\n"
     ]
    }
   ],
   "source": [
    "for i in range(5,20, 5):\n",
    "    for j in range(5,20, 5):\n",
    "        print(\"----------------------------------------\")\n",
    "        t = time.time()\n",
    "        A, B = generate_seq(i), generate_seq(j)\n",
    "        print(\"lcs:  {}, ({:03.2f} s) A: {:3}, B: {:3}\".format(lcs(A, B, 0, 0), time.time() - t, len(A), len(B)))\n"
   ]
  },
  {
   "attachments": {},
   "cell_type": "markdown",
   "metadata": {},
   "source": [
    "# 1.\n",
    "hér eru keyrslur fyrir öll n og m á bilunum [5...15] með 5 staka millibili, tíminn vex með veldisvextinum $c^m$ þar sem c er fasti staka í n"
   ]
  },
  {
   "cell_type": "code",
   "execution_count": 31,
   "metadata": {},
   "outputs": [],
   "source": [
    "\n",
    "dict = {}\n",
    "def lcs2(A, B, i, j):\n",
    "    if len(A) <= i or len(B) <= j:\n",
    "        return 0\n",
    "    if (i,j) in dict and dict[(i,j)] == 1:\n",
    "        return 1 + lcs2(A,B, i+1, j+1)\n",
    "    elif A[i] == B[j]:\n",
    "        dict[(i,j)] = 1\n",
    "        return 1 + lcs2(A,B,i+1,j+1)\n",
    "    \n",
    "    dict[(i,j)] = 0\n",
    "    return max(lcs2(A,B,i+1,j), lcs2(A,B,i,j+1))"
   ]
  },
  {
   "cell_type": "code",
   "execution_count": 30,
   "metadata": {},
   "outputs": [
    {
     "name": "stdout",
     "output_type": "stream",
     "text": [
      "----------------------------------------\n",
      "lcs:  1, (0.00 s) A:   5, B:   5\n",
      "lcs2: 1, (0.00 s) A:   5, B:   5\n",
      "----------------------------------------\n",
      "lcs:  2, (0.00 s) A:   5, B:  10\n",
      "lcs2: 2, (0.00 s) A:   5, B:  10\n",
      "----------------------------------------\n",
      "lcs:  2, (0.01 s) A:   5, B:  15\n",
      "lcs2: 2, (0.02 s) A:   5, B:  15\n",
      "----------------------------------------\n",
      "lcs:  0, (0.00 s) A:  10, B:   5\n",
      "lcs2: 0, (0.01 s) A:  10, B:   5\n",
      "----------------------------------------\n",
      "lcs:  2, (0.07 s) A:  10, B:  10\n",
      "lcs2: 2, (0.08 s) A:  10, B:  10\n",
      "----------------------------------------\n",
      "lcs:  5, (0.19 s) A:  10, B:  15\n",
      "lcs2: 5, (0.23 s) A:  10, B:  15\n",
      "----------------------------------------\n",
      "lcs:  1, (0.01 s) A:  15, B:   5\n",
      "lcs2: 1, (0.02 s) A:  15, B:   5\n",
      "----------------------------------------\n",
      "lcs:  3, (0.77 s) A:  15, B:  10\n",
      "lcs2: 3, (0.92 s) A:  15, B:  10\n",
      "----------------------------------------\n",
      "lcs:  3, (43.01 s) A:  15, B:  15\n",
      "lcs2: 3, (66.45 s) A:  15, B:  15\n"
     ]
    }
   ],
   "source": [
    "for i in range(5,20, 5):\n",
    "    for j in range(5,20, 5):\n",
    "        dict = {}\n",
    "        print(\"----------------------------------------\")\n",
    "        t = time.time()\n",
    "        A, B = generate_seq(i), generate_seq(j)\n",
    "        print(\"lcs:  {}, ({:03.2f} s) A: {:3}, B: {:3}\".format(lcs(A, B, 0, 0), time.time() - t, len(A), len(B)))\n",
    "        t = time.time()\n",
    "        print(\"lcs2: {}, ({:03.2f} s) A: {:3}, B: {:3}\".format(lcs2(A, B, 0, 0), time.time() - t, len(A), len(B)))\n"
   ]
  },
  {
   "attachments": {},
   "cell_type": "markdown",
   "metadata": {},
   "source": [
    "# 2. \n",
    "hér má sjá keyrslur á bæði upprunalega lcs og seinna fallinu sem notar memoisation, það er greinilegt að ekki mikið gagn er að minninu\n",
    "\n",
    "þetta er vegna þess að fallið hefur ekkert að gera með gömul gildi á `(i,j)` því þessi pör endurtaka sig ekki"
   ]
  }
 ],
 "metadata": {
  "kernelspec": {
   "display_name": "Python 3",
   "language": "python",
   "name": "python3"
  },
  "language_info": {
   "codemirror_mode": {
    "name": "ipython",
    "version": 3
   },
   "file_extension": ".py",
   "mimetype": "text/x-python",
   "name": "python",
   "nbconvert_exporter": "python",
   "pygments_lexer": "ipython3",
   "version": "3.10.0"
  },
  "orig_nbformat": 4,
  "vscode": {
   "interpreter": {
    "hash": "7e1998ff7f8aa20ada591c520b972326324e5ea05489af9e422744c7c09f6dad"
   }
  }
 },
 "nbformat": 4,
 "nbformat_minor": 2
}
